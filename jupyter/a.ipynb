{
 "cells": [
  {
   "cell_type": "code",
   "execution_count": null,
   "metadata": {},
   "outputs": [],
   "source": [
    "import pymysql\n",
    "\n",
    "# 연결에 필요한 정보\n",
    "rds_host = 'capstone-database.c5ys4ks8sbyz.us-west-2.rds.amazonaws.com'\n",
    "rds_port = '3306'\n",
    "rds_user = 'admin'  \n",
    "rds_password = 'capstone'  \n",
    "rds_database = 'capstone'  \n",
    "\n",
    "# MySQL 연결\n",
    "conn = pymysql.connect(\n",
    "    host=rds_host,\n",
    "    port=rds_port,\n",
    "    user=rds_user,\n",
    "    password=rds_password,\n",
    "    database=rds_database\n",
    ")"
   ]
  },
  {
   "cell_type": "code",
   "execution_count": null,
   "metadata": {},
   "outputs": [],
   "source": [
    "# 샘플 쿼리 실행\n",
    "with conn.cursor() as cursor:\n",
    "    # 쿼리 작성\n",
    "    query = \"SELECT * FROM Corvallis;\"\n",
    "    \n",
    "    # 쿼리 실행\n",
    "    cursor.execute(query)\n",
    "    \n",
    "    # 결과 가져오기\n",
    "    result = cursor.fetchall()\n",
    "    \n",
    "    # 결과 출력\n",
    "    print(result)"
   ]
  }
 ],
 "metadata": {
  "language_info": {
   "name": "python"
  }
 },
 "nbformat": 4,
 "nbformat_minor": 2
}
