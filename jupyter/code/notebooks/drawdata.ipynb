{
 "cells": [
  {
   "cell_type": "code",
   "execution_count": 83,
   "metadata": {},
   "outputs": [],
   "source": [
    "import pymysql\n",
    "import matplotlib.pyplot as plt\n",
    "from datetime import datetime, timedelta\n",
    "import pandas as pd\n",
    "from flask import Flask, request, jsonify\n",
    "import base64\n",
    "from flask_cors import CORS\n",
    "from io import BytesIO\n",
    "\n",
    "# Flask 애플리케이션 생성\n",
    "app = Flask(__name__)\n",
    "CORS(app)\n",
    "\n",
    "# 연결에 필요한 정보\n",
    "rds_host = 'capstone-database.c5ys4ks8sbyz.us-west-2.rds.amazonaws.com'\n",
    "rds_port = 3306\n",
    "rds_user = 'admin'  \n",
    "rds_password = 'capstone'  \n",
    "rds_database = 'capstone'  \n",
    "\n",
    "# MySQL 연결\n",
    "conn = pymysql.connect(\n",
    "    host=rds_host,\n",
    "    port=rds_port,\n",
    "    user=rds_user,\n",
    "    password=rds_password,\n",
    "    database=rds_database\n",
    ")"
   ]
  },
  {
   "cell_type": "code",
   "execution_count": 85,
   "metadata": {},
   "outputs": [],
   "source": [
    "def generate_graph(data):\n",
    "    # Pandas DataFrame으로 변환\n",
    "    df = pd.DataFrame(data, columns=[\"Time\", \"Pop\"])\n",
    "\n",
    "    # x 축과 y 축 데이터 추출\n",
    "    times = pd.to_datetime(df[\"Time\"])\n",
    "    pops = df[\"Pop\"]\n",
    "\n",
    "    # 그래프 생성\n",
    "    plt.figure(figsize=(15, 6))\n",
    "    plt.plot(times, pops, marker='o', color='blue')\n",
    "\n",
    "        # 그래프 설정\n",
    "    plt.xlabel(\"Time\")\n",
    "    plt.ylabel(\"Pop\")\n",
    "    plt.title(\"Pop vs. Time\")\n",
    "    plt.grid(True)\n",
    "\n",
    "        # x 축 레이블 설정\n",
    "    plt.xticks(times, rotation=45)\n",
    "\n",
    "        # y 축 범위 설정\n",
    "    plt.ylim(ymin=0, ymax=1)\n",
    "\n",
    "        # 레이아웃 조정\n",
    "    plt.tight_layout()\n",
    "    \n",
    "    # 이미지 파일로 저장\n",
    "    buffer = BytesIO()\n",
    "    plt.savefig(buffer, format='png')\n",
    "    buffer.seek(0)\n",
    "    \n",
    "    # 이미지 파일을 base64로 인코딩하여 반환\n",
    "    encoded_image = base64.b64encode(buffer.getvalue()).decode('utf-8')\n",
    "    return encoded_image"
   ]
  },
  {
   "cell_type": "markdown",
   "metadata": {},
   "source": []
  },
  {
   "cell_type": "code",
   "execution_count": 86,
   "metadata": {},
   "outputs": [],
   "source": [
    "@app.route('/drawtable', methods=['POST'])\n",
    "def send_table_name():\n",
    "    content = request.get_json()\n",
    "    table_name = content[\"table_name\"]\n",
    "    \n",
    "    # 샘플 쿼리 실행\n",
    "    with conn.cursor() as cursor:\n",
    "        # 쿼리 작성\n",
    "        query = f\"SELECT time, date, pop FROM {table_name}\"\n",
    "        \n",
    "        # 쿼리 실행\n",
    "        cursor.execute(query)\n",
    "        \n",
    "        # 결과 가져오기\n",
    "        result = cursor.fetchall()\n",
    "        \n",
    "        # 데이터 처리\n",
    "        formatted_data = []\n",
    "        for item in result:\n",
    "            # 시간과 날짜 추출\n",
    "            time = item[0]  # timedelta\n",
    "            date = item[1]  # date\n",
    "            pop = item[2]\n",
    "            \n",
    "            # datetime 객체 생성\n",
    "            datetime_obj = datetime.combine(date, datetime.min.time()) + time\n",
    "            \n",
    "            # 데이터 포맷 변경\n",
    "            formatted_data.append((datetime_obj, pop))\n",
    "            \n",
    "        # 데이터 정렬\n",
    "        formatted_data = sorted(formatted_data, key=lambda x: x[0])\n",
    "        img = generate_graph(formatted_data)\n",
    "        \n",
    "        return jsonify({\"message\": \"POST request received\", \"encoded_image\": img})"
   ]
  },
  {
   "cell_type": "code",
   "execution_count": 87,
   "metadata": {},
   "outputs": [
    {
     "name": "stdout",
     "output_type": "stream",
     "text": [
      " * Serving Flask app '__main__'\n",
      " * Debug mode: off\n"
     ]
    },
    {
     "name": "stderr",
     "output_type": "stream",
     "text": [
      "\u001b[31m\u001b[1mWARNING: This is a development server. Do not use it in a production deployment. Use a production WSGI server instead.\u001b[0m\n",
      " * Running on http://127.0.0.1:5000\n",
      "\u001b[33mPress CTRL+C to quit\u001b[0m\n"
     ]
    }
   ],
   "source": [
    "@app.route('/mao')\n",
    "def hello_world():\n",
    "    return 'Hello, World!'\n",
    "\n",
    "if __name__ == '__main__':\n",
    "     app.run(host='0.0.0.0', port=8000)  # 포트는 원하는 포트로 변경 가능"
   ]
  }
 ],
 "metadata": {
  "kernelspec": {
   "display_name": "condatest",
   "language": "python",
   "name": "venv"
  },
  "language_info": {
   "codemirror_mode": {
    "name": "ipython",
    "version": 3
   },
   "file_extension": ".py",
   "mimetype": "text/x-python",
   "name": "python",
   "nbconvert_exporter": "python",
   "pygments_lexer": "ipython3",
   "version": "3.9.18"
  }
 },
 "nbformat": 4,
 "nbformat_minor": 2
}
